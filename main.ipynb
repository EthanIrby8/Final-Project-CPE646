{
 "cells": [
  {
   "cell_type": "code",
   "execution_count": 2,
   "metadata": {},
   "outputs": [],
   "source": [
    "import keras\n",
    "import tensorflow as tf\n",
    "from tensorflow.keras import datasets, layers, models"
   ]
  },
  {
   "cell_type": "code",
   "execution_count": null,
   "metadata": {},
   "outputs": [],
   "source": [
    "new_model = tf.keras.models.load_model(\"Model 1-32x3-CNN_v4.hdf5\")\n",
    "\n",
    "new_model.summary() # View the layers and parameters of model"
   ]
  },
  {
   "cell_type": "code",
   "execution_count": null,
   "metadata": {},
   "outputs": [],
   "source": [
    "# The model's weights are saved to the relative path where the dataset as well as the entire model is stored in \n",
    "\n",
    "# The function calls below will load the model weights that have been saved at each epoch\n",
    "# and used to train\n",
    "\n",
    "new_model.fit(epochs = insert epoch num, callbacks=[model_checkpoint])\n",
    "\n",
    "# Load model weights\n",
    "new_model.load_weights('/chest_xray')"
   ]
  },
  {
   "cell_type": "code",
   "execution_count": null,
   "metadata": {},
   "outputs": [],
   "source": [
    "# Evaluate the model on unseen data\n",
    "\n",
    "print('Evaluate on test data')\n",
    "scores = new_model.evaluate(x_test, test_labels) # choose data to evaluate the model on\n",
    "print('test loss, test acc:', scores)"
   ]
  }
 ],
 "metadata": {
  "kernelspec": {
   "display_name": "Python 3",
   "language": "python",
   "name": "python3"
  },
  "language_info": {
   "codemirror_mode": {
    "name": "ipython",
    "version": 3
   },
   "file_extension": ".py",
   "mimetype": "text/x-python",
   "name": "python",
   "nbconvert_exporter": "python",
   "pygments_lexer": "ipython3",
   "version": "3.7.4"
  }
 },
 "nbformat": 4,
 "nbformat_minor": 2
}
